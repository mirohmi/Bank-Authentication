{
 "cells": [
  {
   "cell_type": "markdown",
   "metadata": {},
   "source": [
    "## Pengujian Model Menggunakan Data Baru"
   ]
  },
  {
   "cell_type": "markdown",
   "metadata": {},
   "source": [
    "#### Import library dan data uji baru"
   ]
  },
  {
   "cell_type": "code",
   "execution_count": 1,
   "metadata": {},
   "outputs": [
    {
     "data": {
      "text/html": [
       "<div>\n",
       "<style scoped>\n",
       "    .dataframe tbody tr th:only-of-type {\n",
       "        vertical-align: middle;\n",
       "    }\n",
       "\n",
       "    .dataframe tbody tr th {\n",
       "        vertical-align: top;\n",
       "    }\n",
       "\n",
       "    .dataframe thead th {\n",
       "        text-align: right;\n",
       "    }\n",
       "</style>\n",
       "<table border=\"1\" class=\"dataframe\">\n",
       "  <thead>\n",
       "    <tr style=\"text-align: right;\">\n",
       "      <th></th>\n",
       "      <th>Variance</th>\n",
       "      <th>Skewness</th>\n",
       "      <th>Curtosis</th>\n",
       "      <th>Entropy</th>\n",
       "      <th>Class</th>\n",
       "    </tr>\n",
       "  </thead>\n",
       "  <tbody>\n",
       "    <tr>\n",
       "      <th>0</th>\n",
       "      <td>3.62160</td>\n",
       "      <td>8.6661</td>\n",
       "      <td>-2.8073</td>\n",
       "      <td>-0.44699</td>\n",
       "      <td>0</td>\n",
       "    </tr>\n",
       "    <tr>\n",
       "      <th>1</th>\n",
       "      <td>4.54590</td>\n",
       "      <td>8.1674</td>\n",
       "      <td>-2.4586</td>\n",
       "      <td>-1.46210</td>\n",
       "      <td>0</td>\n",
       "    </tr>\n",
       "    <tr>\n",
       "      <th>2</th>\n",
       "      <td>0.14329</td>\n",
       "      <td>-1.0885</td>\n",
       "      <td>1.0039</td>\n",
       "      <td>0.48791</td>\n",
       "      <td>1</td>\n",
       "    </tr>\n",
       "    <tr>\n",
       "      <th>3</th>\n",
       "      <td>-0.90784</td>\n",
       "      <td>-7.9026</td>\n",
       "      <td>6.7807</td>\n",
       "      <td>0.34179</td>\n",
       "      <td>1</td>\n",
       "    </tr>\n",
       "    <tr>\n",
       "      <th>4</th>\n",
       "      <td>-2.00420</td>\n",
       "      <td>-9.3676</td>\n",
       "      <td>9.3333</td>\n",
       "      <td>-0.10303</td>\n",
       "      <td>1</td>\n",
       "    </tr>\n",
       "  </tbody>\n",
       "</table>\n",
       "</div>"
      ],
      "text/plain": [
       "   Variance  Skewness  Curtosis  Entropy  Class\n",
       "0   3.62160    8.6661   -2.8073 -0.44699      0\n",
       "1   4.54590    8.1674   -2.4586 -1.46210      0\n",
       "2   0.14329   -1.0885    1.0039  0.48791      1\n",
       "3  -0.90784   -7.9026    6.7807  0.34179      1\n",
       "4  -2.00420   -9.3676    9.3333 -0.10303      1"
      ]
     },
     "execution_count": 1,
     "metadata": {},
     "output_type": "execute_result"
    }
   ],
   "source": [
    "import pandas as pd\n",
    "from joblib import dump, load\n",
    "from sklearn.metrics import accuracy_score\n",
    "from sklearn.metrics import confusion_matrix\n",
    "from sklearn.metrics import classification_report\n",
    "\n",
    "header_list = ['Variance', 'Skewness', 'Curtosis', 'Entropy', 'Class' ]\n",
    "df_uji = pd.read_csv('data_test.txt', sep=',', header=None, names = header_list)\n",
    "df_uji.head()"
   ]
  },
  {
   "cell_type": "markdown",
   "metadata": {},
   "source": [
    "#### Import model"
   ]
  },
  {
   "cell_type": "code",
   "execution_count": 2,
   "metadata": {},
   "outputs": [],
   "source": [
    "filename = 'bank_tree.joblib'\n",
    "bank_tree = load(filename)\n",
    "\n",
    "filename = 'bank_svm.joblib'\n",
    "bank_svm = load(filename)"
   ]
  },
  {
   "cell_type": "markdown",
   "metadata": {},
   "source": [
    "#### Tentukan fitur dan target"
   ]
  },
  {
   "cell_type": "code",
   "execution_count": 3,
   "metadata": {},
   "outputs": [],
   "source": [
    "fitur_uji = df_uji.drop('Class', axis=1)\n",
    "target_uji = df_uji['Class']\n",
    "target_uji_list = list(target_uji)"
   ]
  },
  {
   "cell_type": "markdown",
   "metadata": {},
   "source": [
    "### Decison Tree"
   ]
  },
  {
   "cell_type": "code",
   "execution_count": 4,
   "metadata": {},
   "outputs": [],
   "source": [
    "hasil_uji_tree = bank_tree.predict(fitur_uji)\n",
    "hasil_uji_tree = list(hasil_uji_tree)"
   ]
  },
  {
   "cell_type": "code",
   "execution_count": 5,
   "metadata": {},
   "outputs": [
    {
     "name": "stdout",
     "output_type": "stream",
     "text": [
      "Nilai akurasi model klasifikasi menggunakan Decision Tree adalah sebesar :  0.9708029197080292\n"
     ]
    }
   ],
   "source": [
    "akurasi_tree = accuracy_score(target_uji_list, hasil_uji_tree)\n",
    "print('Nilai akurasi model klasifikasi menggunakan Decision Tree adalah sebesar : ', akurasi_tree)"
   ]
  },
  {
   "cell_type": "code",
   "execution_count": 6,
   "metadata": {},
   "outputs": [
    {
     "data": {
      "text/plain": [
       "array([[131,   6],\n",
       "       [  2, 135]])"
      ]
     },
     "execution_count": 6,
     "metadata": {},
     "output_type": "execute_result"
    }
   ],
   "source": [
    "confusion_matrix(target_uji_list, hasil_uji_tree)"
   ]
  },
  {
   "cell_type": "code",
   "execution_count": 7,
   "metadata": {},
   "outputs": [
    {
     "name": "stdout",
     "output_type": "stream",
     "text": [
      "              precision    recall  f1-score   support\n",
      "\n",
      "     genuine       0.98      0.96      0.97       137\n",
      "      forged       0.96      0.99      0.97       137\n",
      "\n",
      "    accuracy                           0.97       274\n",
      "   macro avg       0.97      0.97      0.97       274\n",
      "weighted avg       0.97      0.97      0.97       274\n",
      "\n"
     ]
    }
   ],
   "source": [
    "target_names = ['genuine', 'forged']\n",
    "print(classification_report(target_uji_list, hasil_uji_tree, target_names=target_names))"
   ]
  },
  {
   "cell_type": "markdown",
   "metadata": {},
   "source": [
    "### SVM"
   ]
  },
  {
   "cell_type": "code",
   "execution_count": 8,
   "metadata": {},
   "outputs": [],
   "source": [
    "hasil_uji_svm = bank_svm.predict(fitur_uji)\n",
    "hasil_uji_svm = list(hasil_uji_svm)"
   ]
  },
  {
   "cell_type": "code",
   "execution_count": 9,
   "metadata": {},
   "outputs": [
    {
     "name": "stdout",
     "output_type": "stream",
     "text": [
      "Nilai akurasi model klasifikasi menggunakan SVM adalah sebesar :  0.9963503649635036\n",
      "\n",
      "\n",
      "              precision    recall  f1-score   support\n",
      "\n",
      "     genuine       1.00      0.99      1.00       137\n",
      "      forged       0.99      1.00      1.00       137\n",
      "\n",
      "    accuracy                           1.00       274\n",
      "   macro avg       1.00      1.00      1.00       274\n",
      "weighted avg       1.00      1.00      1.00       274\n",
      "\n"
     ]
    }
   ],
   "source": [
    "akurasi_svm = accuracy_score(target_uji_list, hasil_uji_svm)\n",
    "print('Nilai akurasi model klasifikasi menggunakan SVM adalah sebesar : ', akurasi_svm)\n",
    "print('\\n')\n",
    "print(classification_report(target_uji_list, hasil_uji_svm, target_names=target_names))"
   ]
  },
  {
   "cell_type": "code",
   "execution_count": 10,
   "metadata": {},
   "outputs": [
    {
     "data": {
      "text/plain": [
       "array([[136,   1],\n",
       "       [  0, 137]])"
      ]
     },
     "execution_count": 10,
     "metadata": {},
     "output_type": "execute_result"
    }
   ],
   "source": [
    "confusion_matrix(target_uji_list, hasil_uji_svm)"
   ]
  },
  {
   "cell_type": "code",
   "execution_count": null,
   "metadata": {},
   "outputs": [],
   "source": []
  }
 ],
 "metadata": {
  "kernelspec": {
   "display_name": "Python 3",
   "language": "python",
   "name": "python3"
  },
  "language_info": {
   "codemirror_mode": {
    "name": "ipython",
    "version": 3
   },
   "file_extension": ".py",
   "mimetype": "text/x-python",
   "name": "python",
   "nbconvert_exporter": "python",
   "pygments_lexer": "ipython3",
   "version": "3.7.6"
  }
 },
 "nbformat": 4,
 "nbformat_minor": 4
}
